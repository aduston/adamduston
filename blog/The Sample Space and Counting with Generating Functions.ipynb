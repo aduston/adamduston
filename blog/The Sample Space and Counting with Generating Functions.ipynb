{
 "cells": [
  {
   "cell_type": "markdown",
   "metadata": {},
   "source": [
    "# The Problem\n",
    "\n",
    "Suppose we have a coin that lands heads with probability $p$ and tails with probability $q = p - 1$, and which has no memory between flips (meaning successive flips are stochastically independent). What are the chances of seeing two consecutive heads in n coin flips?\n",
    "\n",
    "## The Sample Space\n",
    "\n",
    "Representing the possible outcomes of three tosses as a tree diagram, we have:\n",
    "\n",
    "![tree diagram for three tosses of a coin](tree0.png)\n",
    "\n",
    "Each path has a weight equal to its probability. Since successive trials are stochastically independent, each branch leading to an H has a weight of p and each branch leading to a T has a weight of q.\n",
    "\n",
    "Although we're trying to determine the probability of two consecutive heads in n flips, it's arguably easier to characterize its complement, the probability of *not* getting two consecutive heads in n flips. Suppose that, as of the kth flip, we have not yet seen two consecutive heads. The kth flip can be either a head or a tail. Suppose it's a head; in this case the the k-1st flip must have been a tail. So the first k flips must end either in TH or T, of probability $pq$ and $q$, respectively. Denoting the probability of not getting two consecutive heads as of flip k as $a_k$, we then have $a_k = pqa_{k-2} + qa_{k-1}$.\n",
    "\n",
    "To see this in the tree diagram for k = 2:\n",
    "\n",
    "![paths without two consecutive heads on toss 2](tree1.png)\n",
    "\n",
    "And k = 3:\n",
    "\n",
    "![paths without two consecutive heads on toss 3](tree2.png)\n",
    "\n",
    "## Solving for $a_i$\n",
    "\n",
    "This recursive formulation is useful and, indeed, one way to compute the probability for two consecutive heads in n flips is to perform the computation recursively:"
   ]
  },
  {
   "cell_type": "code",
   "execution_count": 1,
   "metadata": {},
   "outputs": [],
   "source": [
    "def no_two_consecutive_heads_recursive(n, p, q):\n",
    "    a_k_2, a_k_1 = 1, 1\n",
    "    a_k = None\n",
    "    for k in range(2, n + 1):\n",
    "        a_k = a_k_2 * p * q + a_k_1 * q\n",
    "        a_k_2 = a_k_1\n",
    "        a_k_1 = a_k\n",
    "    return a_k\n",
    "\n",
    "def two_consecutive_heads_recursive(n, p, q):\n",
    "    return 1 - no_two_consecutive_heads_recursive(n, p, q)"
   ]
  },
  {
   "cell_type": "markdown",
   "metadata": {},
   "source": [
    "Trying this out for a coin that lands heads with p = 1/4 and with n = 5, we have:"
   ]
  },
  {
   "cell_type": "code",
   "execution_count": 2,
   "metadata": {},
   "outputs": [
    {
     "name": "stdout",
     "output_type": "stream",
     "text": [
      "0.2001953125\n"
     ]
    }
   ],
   "source": [
    "print(two_consecutive_heads_recursive(5, 0.25, 0.75))"
   ]
  },
  {
   "cell_type": "markdown",
   "metadata": {},
   "source": [
    "One way to check this result is by counting:"
   ]
  },
  {
   "cell_type": "code",
   "execution_count": 3,
   "metadata": {},
   "outputs": [
    {
     "name": "stdout",
     "output_type": "stream",
     "text": [
      "0.2001953125\n"
     ]
    }
   ],
   "source": [
    "def weighted_sequences(n, r, s):\n",
    "    \"\"\"\n",
    "    Yields all strings consisting of {H,T} with counts consistent with \n",
    "    P(H) = r/(r + s) and P(T) = s/(r + s).\n",
    "    \"\"\"\n",
    "    strings = [\"\"]\n",
    "    while len(strings) > 0:\n",
    "        string = strings.pop()\n",
    "        if len(string) == n:\n",
    "            yield string\n",
    "        else:\n",
    "            for i in range(r):\n",
    "                strings.append(string + \"H\")\n",
    "            for i in range(s):\n",
    "                strings.append(string + \"T\")\n",
    "\n",
    "def two_consecutive_heads_counting(n, r, s):\n",
    "    num_total = 0\n",
    "    num_two_consecutive_heads = 0\n",
    "    for sequence in weighted_sequences(n, r, s):\n",
    "        num_total += 1\n",
    "        if \"HH\" in sequence:\n",
    "            num_two_consecutive_heads += 1\n",
    "    return num_two_consecutive_heads / num_total\n",
    "\n",
    "print(two_consecutive_heads_counting(5, 1, 3))"
   ]
  },
  {
   "cell_type": "markdown",
   "metadata": {},
   "source": [
    "This verifies that the recursive expression for $a_i$ is correct, but can we come up with a closed-form expression for $a_i$?\n",
    "## A closed-form expression for $a_i$ using generating functions\n",
    "Using generating functions, we can come up with a closed form expression for $a_i$.\n",
    "\n",
    "\\begin{alignat}{10}\n",
    "g(x) & = 1 & + && x & + & a_2x^2 & + & a_3x^3 & + ...\\\\\n",
    "qxg(x) & = &&& qx & + & qx^2 & + & qa_2x^3 & + ...\\\\\n",
    "pqx^2g(x) & = &&&&& pqx^2 & + & pqx^3 & + ...\\\\\n",
    "\\end{alignat}\n",
    "\n",
    "Solving for g(x) by subtracting the latter two expressions from the first, we obtain\n",
    "\n",
    "\\begin{equation*}\n",
    "g(x) = \\frac{1 + (1 - q)x}{1 - qx - pqx^2}\n",
    "\\end{equation*}\n",
    "\n",
    "Define $\\alpha$ and $\\beta$ as\n",
    "\n",
    "\\begin{align*}\n",
    "\\alpha & = \\frac{q - \\sqrt{q(4p + q)}}{2}\\\\\n",
    "\\beta & = \\frac{q + \\sqrt{q(4p + q)}}{2}\n",
    "\\end{align*}\n",
    "\n",
    "A little arithmetic later and we have:\n",
    "\n",
    "\\begin{equation*}\n",
    "g(x) = \\frac{1}{\\sqrt{q(4p + q)}}\\left(\\frac{\\beta - 1}{1 - {\\alpha}x} - \\frac{\\alpha - 1}{1 - {\\beta}x}\\right)\n",
    "\\end{equation*}\n",
    "\n",
    "Equating coefficients for $1/(1-sx)$, we have a closed-form expression for the nth term:\n",
    "\n",
    "\\begin{equation*}\n",
    "a_n = \\frac{1}{\\sqrt{q(4p + q)}}\\left((\\beta - 1)\\alpha^n - (\\alpha - 1)\\beta^n\\right)\n",
    "\\end{equation*}\n",
    "\n",
    "As a form of verification, take a look at the result of this computation for our previous values of n and p:"
   ]
  },
  {
   "cell_type": "code",
   "execution_count": 4,
   "metadata": {},
   "outputs": [],
   "source": [
    "from math import sqrt, pow\n",
    "\n",
    "def no_two_consecutive_heads_closed(n, p, q):\n",
    "    s = sqrt(q * (4 * p + q))\n",
    "    alpha = (q - s) / 2\n",
    "    beta = (q + s) / 2\n",
    "    return ((beta - 1) * pow(alpha, n) - (alpha - 1) * pow(beta, n)) / s"
   ]
  },
  {
   "cell_type": "markdown",
   "metadata": {},
   "source": [
    "For a coin that lands heads with p = 1/4 and with n = 5, we see this returns a number that matches the other two methods:"
   ]
  },
  {
   "cell_type": "code",
   "execution_count": 5,
   "metadata": {},
   "outputs": [
    {
     "data": {
      "text/plain": [
       "0.20019531250000022"
      ]
     },
     "execution_count": 5,
     "metadata": {},
     "output_type": "execute_result"
    }
   ],
   "source": [
    "1 - no_two_consecutive_heads_closed(5, 0.25, 0.75)"
   ]
  },
  {
   "cell_type": "markdown",
   "metadata": {},
   "source": [
    "## Computing $a_i$ using a Markov matrix\n",
    "\n",
    "Suppose we have a process that has 3 possible states, and that transitions from state $j$ to state $i$ with probability $a_{ij}$, and that the probability of each transition depends upon current state and no other aspect of history. Suppose that, over the course of k state transitions, the process transitions from state $j$ to state $i$ with probability $b_{ij}$. What is the probability $c_{ij}$ it will transition from state $j$ to state $i$ in k + 1 state transitions? (Go ahead and try to work this out, answer follows).\n",
    "\n",
    "We know that, in the first state transition, the process will go from $j$ to $l$ with probability $a_{lj}$. We then know that, for each target state $l$, the process will go to $i$ over the next k transitions with probability $b_{il}$. Since there are three possible states, we have:\n",
    "\n",
    "\\begin{equation*}\n",
    "c_{ij} = \\sum_{l=1}^{3} b_{il}a_{lj}\n",
    "\\end{equation*}\n",
    "\n",
    "Hopefully this looks like the product of matrix B, which consists of entries $b_{ij}$ and matrix A, which consists of entries $a_{ij}$:\n",
    "\n",
    "\\begin{equation*}\n",
    "\\begin{pmatrix}\n",
    "b_{11} & b_{12} & b_{13} \\\\\n",
    "b_{21} & b_{22} & b_{23} \\\\\n",
    "b_{31} & b_{32} & b_{33}\n",
    "\\end{pmatrix} \\begin{pmatrix}\n",
    "a_{11} & a_{12} & a_{13} \\\\\n",
    "a_{21} & a_{22} & a_{23} \\\\\n",
    "a_{31} & a_{32} & a_{33}\n",
    "\\end{pmatrix} = \\begin{pmatrix}\n",
    "c_{11} & c_{12} & c_{13} \\\\\n",
    "c_{21} & c_{22} & c_{23} \\\\\n",
    "c_{31} & c_{32} & c_{33}\n",
    "\\end{pmatrix}\n",
    "\\end{equation*}\n",
    "\n",
    "Using induction, we can restate this as: the probability of going from state i to state j in k + 1 state transitions is exactly equaly to $A$ multiplied by itself k+1 times:\n",
    "\n",
    "\\begin{equation*}\n",
    "\\begin{pmatrix}\n",
    "a_{11} & a_{12} & a_{13} \\\\\n",
    "a_{21} & a_{22} & a_{23} \\\\\n",
    "a_{31} & a_{32} & a_{33}\n",
    "\\end{pmatrix}^{k+1}\n",
    "\\end{equation*}\n",
    "\n",
    "I wish I were the person who invented this formalism, but [Andrey Markov first published on the subject in 1906](https://en.wikipedia.org/wiki/Stochastic_matrix).\n",
    "\n",
    "How does this help us? Define n tosses of a coin as a process that has three distinct states:\n",
    "\n",
    "1. Toss n came up tails, and we have not yet seen two consecutive heads.\n",
    "2. Toss n came up heads, and we have not yet seen two consecutive heads.\n",
    "3. As of toss n (inclusive), we have seen two consecutive heads.\n",
    "\n",
    "The transition matrix corresponding to these three states:\n",
    "\n",
    "\\begin{equation*}\n",
    "\\begin{pmatrix}\n",
    "q & q & 0 \\\\\n",
    "p & 0 & 0 \\\\\n",
    "0 & p & 1\n",
    "\\end{pmatrix}\n",
    "\\end{equation*}\n",
    "\n",
    "Quick explanation:\n",
    "\n",
    "1. Suppose we are in state 1. We remain in state 1 by landing on tails, which has probability $q$, and we move to state 2 by landing on heads, which has probability $p$. There is no way to get to state 3.\n",
    "2. Suppose we are in state 2. We can revert to state 1 by landing on tails, which has probability $q$, and we can move to state 3 by landing on heads. There is no way to get from state 2 to 2.\n",
    "3. Suppose we are in state 3. Then we remain in state 3 forever; the only available state transition is from 3 to 3.\n",
    "\n",
    "Checking this computationally using our previous parameters:"
   ]
  },
  {
   "cell_type": "code",
   "execution_count": 6,
   "metadata": {},
   "outputs": [
    {
     "name": "stdout",
     "output_type": "stream",
     "text": [
      "0.2001953125\n"
     ]
    }
   ],
   "source": [
    "import numpy as np\n",
    "\n",
    "def two_consecutive_heads_matrix(n, p, q):\n",
    "    A = np.matrix([[q, q, 0], [p, 0, 0], [0, p, 1]])\n",
    "    return (A ** n).item((2, 0))\n",
    "\n",
    "print(two_consecutive_heads_matrix(5, 0.25, 0.75))"
   ]
  },
  {
   "cell_type": "markdown",
   "metadata": {},
   "source": [
    "## k consecutive heads in n flips\n",
    "\n",
    "### Markov matrix method\n",
    "\n",
    "Generalizing the previous result, we could define n tosses of a coin as a process that has k+1 distinct states:\n",
    "\n",
    "&nbsp;&nbsp;1\\. Toss n came up tails, and we have not yet seen k consecutive heads<br/>\n",
    "&nbsp;&nbsp;2\\. Toss n came up heads, and we have not yet seen k consecutive heads<br/>\n",
    "&nbsp;&nbsp;...<br/>\n",
    "&nbsp;&nbsp;k\\. Tosses n - k + 2 to n (inclusive) came up heads, and we have not yet seen k consecutive heads<br/>\n",
    "&nbsp;&nbsp;k+1\\. As of toss n (inclusive), we have seen k consecutive heads\n",
    "\n",
    "Computing this using Python:"
   ]
  },
  {
   "cell_type": "code",
   "execution_count": 10,
   "metadata": {},
   "outputs": [
    {
     "name": "stdout",
     "output_type": "stream",
     "text": [
      "0.0390625\n"
     ]
    }
   ],
   "source": [
    "def k_consecutive_heads_matrix(n, k, p, q):\n",
    "    matrix = [[q] * k + [0]]\n",
    "    for i in range(k):\n",
    "        matrix.append([0] * i + [p] + [0] * (k - i))\n",
    "    matrix[-1][-1] = 1\n",
    "    return (np.matrix(matrix) ** n).item((k, 0))\n",
    "\n",
    "print(k_consecutive_heads_matrix(5, 3, 0.25, 0.75))"
   ]
  },
  {
   "cell_type": "markdown",
   "metadata": {},
   "source": [
    "Verifying this result by simple counting:"
   ]
  },
  {
   "cell_type": "code",
   "execution_count": 7,
   "metadata": {},
   "outputs": [],
   "source": [
    "def k_consecutive_heads_counting(n, k, r, s):\n",
    "    k_heads = \"H\" * k\n",
    "    num_total = 0\n",
    "    num_k_consecutive_heads = 0\n",
    "    for sequence in weighted_sequences(n, r, s):\n",
    "        num_total += 1\n",
    "        if k_heads in sequence:\n",
    "            num_k_consecutive_heads += 1\n",
    "    return num_k_consecutive_heads / num_total"
   ]
  },
  {
   "cell_type": "code",
   "execution_count": 8,
   "metadata": {},
   "outputs": [
    {
     "name": "stdout",
     "output_type": "stream",
     "text": [
      "0.0390625\n"
     ]
    }
   ],
   "source": [
    "print(k_consecutive_heads_counting(5, 3, 1, 3))"
   ]
  },
  {
   "cell_type": "markdown",
   "metadata": {},
   "source": [
    "Numpy is likely using a matrix multiplication method that is sub-$O(k^3)$ for a k-by-k square matrix. Because it squares matrices as a shortcut when taking a matrix to a given power, the time complexity of this method is $O(k^3log(n))$.\n",
    "\n",
    "### Dynamic programming method\n",
    "\n",
    "Reflecting on [our original method](#Solving-for-%24a_i%24) to recursively solve for the probability of not seeing two consecutive heads as of i flips, $a_i$, the method can be extended to recursively solve for the probability of not seeing k consecutive heads as of i flips:\n",
    "\n",
    "\\begin{equation*}\n",
    "a_i = \\sum_{j=1}^{k} qp^{j-1}a_{i-j}\n",
    "\\end{equation*}\n",
    "\n",
    "In Python:"
   ]
  }
 ],
 "metadata": {
  "kernelspec": {
   "display_name": "Python 3",
   "language": "python",
   "name": "python3"
  },
  "language_info": {
   "codemirror_mode": {
    "name": "ipython",
    "version": 3
   },
   "file_extension": ".py",
   "mimetype": "text/x-python",
   "name": "python",
   "nbconvert_exporter": "python",
   "pygments_lexer": "ipython3",
   "version": "3.7.0"
  }
 },
 "nbformat": 4,
 "nbformat_minor": 2
}

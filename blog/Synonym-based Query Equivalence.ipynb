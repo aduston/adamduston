{
 "cells": [
  {
   "cell_type": "markdown",
   "metadata": {},
   "source": [
    "# Problem 1\n",
    "There are two inputs, a list of synonyms and a list of query pairs. For each query pair, determine equivalence given the list of synonyms.\n",
    "\n",
    "The synonym list is always provided as a list of pairs of strings. For any word with synonyms, all pairs appear in the list (so there's no need to follow transitive relationships). Synonyms might consist of one word or several, and it's possible for one term to have several different synonyms.\n",
    "\n",
    "The query pair list is always provided as a list of pairs of strings.\n",
    "\n",
    "## Problem 1 Examples\n",
    "Synonym list:\n",
    "```\n",
    "[(\"read\", \"look through\"), (\"The Iliad\", \"The Song of Ilium\"), (\"look\", \"see\")]\n",
    "```\n",
    "Query pairs:\n",
    "```\n",
    "[(\"look through The Iliad\", \"read The Song of Ilium\"),\n",
    " (\"look through the glass\", \"see through the glass\"),\n",
    " (\"look through book\", \"read through book\"),\n",
    " (\"read The Iliad\", \"The Song of Ilium look through\")]\n",
    "```\n",
    "Expected output:\n",
    "```\n",
    "[True, True, False, False]\n",
    "```\n",
    "## Dynamic Programming Formulation\n",
    "### \"Build the grid\"\n",
    "Each query is tokenized by splitting on white space to yield a list of words. For a query `a`, define `a[i]` as the ith word of `a` and `a[i:j]` as the tuple of ith through j-1th (inclusive) words of `a`, of length `j - i`.\n",
    "\n",
    "For a given query pair `(a, b)`, define `M[i, j]` to be True if there is equivalence between `a` and `b` up to `a[i - 1]` and `b[j - 1]`, and False otherwise. Then:\n",
    "\n",
    "```\n",
    "M[0, 0] = True\n",
    "M[i, j] = ∃ k < i, l < j s.t. M[k, l] is True and a[k:i] is a synonym of b[l:j]\n",
    "```\n",
    "\n",
    "A query pair `(a, b)` is equivalent if and only if `M[len(a), len(b)]` is True.\n",
    "\n",
    "This yields a straightforward dynamic programming solution in which a 2-d grid is built with word `a` on the horizontal axis and `b` on the vertical axis. One column is devoted to each word of `a` and one row to each word of `b`. Given the indexing given above, we append one extra column and one extra row. Each cell `(i, j)` contains the value True to indicate there is equivalence between `a` and `b` up to `a[i - 1]` and `b[j - 1]`, and False otherwise. In the solution below, we only keep track of the grid coordinates containing True, since they're the only ones that matter in the above recursive formulation of `M[i, j]`."
   ]
  },
  {
   "cell_type": "code",
   "execution_count": 1,
   "metadata": {
    "collapsed": false
   },
   "outputs": [
    {
     "data": {
      "text/plain": [
       "[True, True, False, False]"
      ]
     },
     "execution_count": 1,
     "metadata": {},
     "output_type": "execute_result"
    }
   ],
   "source": [
    "SYNONYMS = {(\"read\", \"look through\"), (\"The Iliad\", \"The Song of Ilium\"), (\"look\", \"see\")}\n",
    "PAIRS = [\n",
    "    (\"look through The Iliad\", \"read The Song of Ilium\"),\n",
    "    (\"look through the glass\", \"see through the glass\"),\n",
    "    (\"look through book\", \"read through book\"),\n",
    "    (\"read The Iliad\", \"The Song of Ilium look through\")]\n",
    "\n",
    "def are_synonymous(a, b, synonyms):\n",
    "    return a == b or (a, b) in synonyms or (b, a) in synonyms\n",
    "\n",
    "def solve_query(synonyms, query):\n",
    "    a, b = (q.split(\" \") for q in query)\n",
    "    equivalences = {(0, 0)}\n",
    "    for i in range(1, len(a) + 1):\n",
    "        for j in range(1, len(b) + 1):\n",
    "            for k, l in equivalences:\n",
    "                if k >= i or l >= j:\n",
    "                    continue\n",
    "                if are_synonymous(' '.join(a[k:i]), ' '.join(b[l:j]), synonyms):\n",
    "                    equivalences.add((i, j))\n",
    "                    break\n",
    "    return (len(a), len(b)) in equivalences\n",
    "\n",
    "def solve_queries(synonyms, queries):\n",
    "    return [solve_query(synonyms, q) for q in queries]\n",
    "\n",
    "solve_queries(SYNONYMS, PAIRS)"
   ]
  },
  {
   "cell_type": "markdown",
   "metadata": {},
   "source": [
    "### Search with memoization\n",
    "Whereas in the previous solution we answered the question \"is there an equivalence ending at a particular position pair?\" and then iteratively built up answers to this question starting with True at (0, 0), in this approach we build up the same set of answers through searching all possible (i, j) pairs, asking \"is there an equivalence starting at this position?\".\n",
    "\n",
    "Formalizing this, we have:\n",
    "\n",
    "```\n",
    "M[len(a), len(b)] = True\n",
    "M[i, j] = ∃ k > i, l > j s.t. a[i:k] is a synonym of b[j:l] and M[k, l] is True\n",
    "```\n",
    "\n",
    "Code:"
   ]
  },
  {
   "cell_type": "code",
   "execution_count": 2,
   "metadata": {
    "collapsed": false
   },
   "outputs": [
    {
     "data": {
      "text/plain": [
       "[True, True, False, False]"
      ]
     },
     "execution_count": 2,
     "metadata": {},
     "output_type": "execute_result"
    }
   ],
   "source": [
    "from collections import defaultdict\n",
    "\n",
    "def make_synonym_lookup(synonyms):\n",
    "    lookup = defaultdict(set)\n",
    "    for a, b in synonyms:\n",
    "        lookup[a].add(b)\n",
    "        lookup[b].add(a)\n",
    "    return lookup\n",
    "\n",
    "def find_synonyms(tail, synonym_lookup):\n",
    "    word_ends = [i for i, c in enumerate(tail) if c == ' '] + [len(tail)]\n",
    "    synonyms = set()\n",
    "    for word_end in word_ends:\n",
    "        tail_prefix = tail[:word_end]\n",
    "        synonyms.add((tail_prefix, tail_prefix))\n",
    "        for synonym in synonym_lookup.get(tail_prefix, []):\n",
    "            synonyms.add((tail_prefix, synonym))\n",
    "    return synonyms\n",
    "\n",
    "def solve_query(synonyms, query):\n",
    "    a, b = query\n",
    "    negative_answers = set()\n",
    "    synonym_lookup = make_synonym_lookup(synonyms)\n",
    "    def visit(i, j):\n",
    "        if (i, j) in negative_answers:\n",
    "            return False\n",
    "        if i >= len(a) and j >= len(b):\n",
    "            return True\n",
    "        elif i >= len(a) or j >= len(b):\n",
    "            return False\n",
    "        a_tail, b_tail = a[i:], b[j:]\n",
    "        a_synonyms = find_synonyms(a_tail, synonym_lookup)\n",
    "        for term, synonym in a_synonyms:\n",
    "            if b_tail.startswith(synonym):\n",
    "                if visit(i + len(term) + 1, j + len(synonym) + 1):\n",
    "                    return True\n",
    "        negative_answers.add((i, j))\n",
    "        return False\n",
    "    return visit(0, 0)\n",
    "\n",
    "def solve_queries(synonyms, queries):\n",
    "    return [solve_query(synonyms, q) for q in queries]\n",
    "\n",
    "solve_queries(SYNONYMS, PAIRS)"
   ]
  },
  {
   "cell_type": "markdown",
   "metadata": {},
   "source": [
    "# Problem 2\n",
    "Same as the first problem except terms can appear in any order in the second query.\n",
    "\n",
    "Synonym list:\n",
    "```\n",
    "[(\"read\", \"look through\"), (\"The Iliad\", \"The Song of Ilium\"), (\"look\", \"see\")]\n",
    "```\n",
    "Query pairs:\n",
    "```\n",
    "[(\"look through The Iliad\", \"read The Song of Ilium\"),\n",
    " (\"look through the glass\", \"see through the glass\"),\n",
    " (\"look through book\", \"read through book\"),\n",
    " (\"read The Iliad\", \"The Song of Ilium look through\"),\n",
    " (\"look through and see\", \"look and read\")]\n",
    "```\n",
    "Expected output:\n",
    "```\n",
    "[True, True, False, True, True]\n",
    "```\n",
    "Note the first four test cases are identical to the previous four test cases, but now True is returned for the fourth. We also added a fifth test case that has True.\n",
    "## Backtracking Search Formulation\n",
    "In this formulation, we search through all possible segmentations of `a`, and at each node in the search tree we end the search branch if synonyms for the segmentation aren't represented in `b`. This is essentially treating the problem as a constraint satisfaction problem.\n",
    "\n",
    "Formalizing this, **TODO**"
   ]
  },
  {
   "cell_type": "code",
   "execution_count": 3,
   "metadata": {
    "collapsed": false
   },
   "outputs": [
    {
     "data": {
      "text/plain": [
       "[True, True, False, True, True]"
      ]
     },
     "execution_count": 3,
     "metadata": {},
     "output_type": "execute_result"
    }
   ],
   "source": [
    "def solve_query(synonyms, query):\n",
    "    a, b = query\n",
    "    a_words = a.split(\" \")\n",
    "    synonym_lookup = make_synonym_lookup(synonyms)\n",
    "    def visit(i, leftover_b):\n",
    "        leftover_b = leftover_b.strip()\n",
    "        if i == len(a_words) and leftover_b == \"\":\n",
    "            return True\n",
    "        if i == len(a_words) or leftover_b == \"\":\n",
    "            return False\n",
    "        for j in range(i + 1, len(a_words) + 1):\n",
    "            word = ' '.join(a_words[i:j])\n",
    "            synonyms = synonym_lookup.get(word, set()) | { word }\n",
    "            for synonym in synonyms:\n",
    "                if synonym not in leftover_b:\n",
    "                    # cut off this search branch, since it violates our constraint\n",
    "                    continue\n",
    "                if visit(j, leftover_b.replace(synonym, \"\")):\n",
    "                    return True\n",
    "        return False\n",
    "    return visit(0, b)\n",
    "\n",
    "def solve_queries(synonyms, queries):\n",
    "    return [solve_query(synonyms, q) for q in queries]\n",
    "\n",
    "solve_queries(\n",
    "    SYNONYMS,\n",
    "    [(\"look through The Iliad\", \"read The Song of Ilium\"),\n",
    "     (\"look through the glass\", \"see through the glass\"),\n",
    "     (\"look through book\", \"read through book\"),\n",
    "     (\"read The Iliad\", \"The Song of Ilium look through\"),\n",
    "     (\"look through and see\", \"look and read\")])"
   ]
  },
  {
   "cell_type": "markdown",
   "metadata": {},
   "source": [
    "**TODO** time complexity analysis, include some interesting examples a la http://norvig.com/sudoku.html"
   ]
  }
 ],
 "metadata": {
  "kernelspec": {
   "display_name": "Python 3",
   "language": "python",
   "name": "python3"
  },
  "language_info": {
   "codemirror_mode": {
    "name": "ipython",
    "version": 3
   },
   "file_extension": ".py",
   "mimetype": "text/x-python",
   "name": "python",
   "nbconvert_exporter": "python",
   "pygments_lexer": "ipython3",
   "version": "3.7.0"
  }
 },
 "nbformat": 4,
 "nbformat_minor": 2
}
